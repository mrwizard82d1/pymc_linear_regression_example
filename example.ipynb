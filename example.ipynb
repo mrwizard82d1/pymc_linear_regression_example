{
 "cells": [
  {
   "cell_type": "markdown",
   "id": "8a77807f92f26ee",
   "metadata": {},
   "source": [
    "# Example from Linear Regression\n"
   ]
  },
  {
   "cell_type": "markdown",
   "id": "396fccb3248e4029",
   "metadata": {},
   "source": [
    "This example demonstrates how to perform Bayesian inference for a\n",
    "linear regression model to predict plant growth based on\n",
    "environmental factors."
   ]
  },
  {
   "cell_type": "markdown",
   "id": "aa69493240e33328",
   "metadata": {},
   "source": [
    "### Background\n",
    "\n",
    "Plant growth can be influenced by multiple factors, and understanding\n",
    "these relationships is crucial for optimizing agricultural practices.\n",
    "\n",
    "Independent variables:\n",
    "\n",
    "- Sunlight Hours: Number of hours plant is exposed to sunlight daily.\n",
    "- Water Amount: Daily water amount given to the plant (in milliliters).\n",
    "- Soil Nitrogen Content: Percentage of nitrogen content in the soil.\n",
    "\n",
    "Dependent variables:\n",
    "\n",
    "- Plant Growth (y): Measured as the increase in plant height\n",
    "  (in centimeters) over a certain period.\n"
   ]
  },
  {
   "metadata": {},
   "cell_type": "code",
   "source": [
    "# Import the required packages\n",
    "import pymc as pm"
   ],
   "id": "fbc121e30a2defb3",
   "outputs": [],
   "execution_count": null
  },
  {
   "metadata": {},
   "cell_type": "code",
   "source": [
    "# Take draws from a normal distribution.\n",
    "seed = 42\n",
    "x_dist = pm.Normal.dist(shape=(100, 3))\n",
    "x_data = pm.draw(x_dist, random_seed=seed)"
   ],
   "id": "1bc5d1b6f56d3c15",
   "outputs": [],
   "execution_count": null
  },
  {
   "metadata": {},
   "cell_type": "code",
   "source": [
    "# Define coordinate values for all dimensions of tha data\n",
    "coords = {\n",
    "    'trial': range(100),\n",
    "    'features': ['sunlight hours', 'water amount', 'soil nitrogen content'],\n",
    "}"
   ],
   "id": "12dd7912820dbaf",
   "outputs": [],
   "execution_count": null
  },
  {
   "metadata": {},
   "cell_type": "code",
   "source": [
    "# Define a generative model\n",
    "with pm.Model(coords=coords) as generative_model:\n",
    "    x = pm.Data('x', x_data, dims=['trials', 'features'])\n",
    "\n",
    "    # Model parameters\n",
    "    betas = pm.Normal('betas', dims='features')  # Each feature is normally distributetd\n",
    "    sigma = pm.HalfNormal('sigma')\n",
    "\n",
    "    # Linear model\n",
    "    mu = x @ betas # Matrix multiplication\n",
    "\n",
    "    # Likelihood\n",
    "    # Assuming we measure deviation of each plant from baseline\n",
    "    plant_growth = pm.Normal('plant growth', mu, sigma, dims='trials')"
   ],
   "id": "90f582e4abe913b4",
   "outputs": [],
   "execution_count": null
  },
  {
   "metadata": {},
   "cell_type": "code",
   "source": [
    "# Generating data from model by fixing parameters\n",
    "fixed_parameters = {\n",
    "    'betas': [5, 20, 2],\n",
    "    'sigma': 0.5,\n",
    "}\n",
    "with pm.do(generative_model, fixed_parameters) as synthetic_model:\n",
    "    idata = pm.sample_prior_predictive(random_seed=seed) # Sample from prior predictive distribution\n",
    "    synthetic_y = idata.prior['plant growth'].sel(draw=0, chain=0)"
   ],
   "id": "a4fd434ac8aa3ac8",
   "outputs": [],
   "execution_count": null
  },
  {
   "metadata": {},
   "cell_type": "code",
   "source": [
    "# Infer parameters conditioned on observed data\n",
    "with pm.observe(generative_model, {'plant growth': synthetic_y}) as inference_model:\n",
    "    idata = pm.sample(random_seed=seed)\n",
    "\n",
    "    summary = pm.stats.summary(idata, var_names=['betas', 'sigma'])\n",
    "    print(summary)"
   ],
   "id": "f96bbaec627e6367",
   "outputs": [],
   "execution_count": null
  },
  {
   "metadata": {},
   "cell_type": "code",
   "source": [
    "# Simulate new data conditioned on inferred parameters.\n",
    "new_x_data = pm.draw(pm.Normal.dist(shape=(3, 3)), random_seed=seed)\n",
    "new_coords = coords | {'trial': [0, 1, 2]}\n",
    "\n",
    "with inference_model:\n",
    "    pm.set_data({'x': new_x_data}, coords=new_coords)\n",
    "    pm.sample_posterior_predictive(\n",
    "        idata,\n",
    "        predictions=True,\n",
    "        extend_inferencedata=True,\n",
    "        random_seed=seed,\n",
    "    )\n",
    "\n",
    "pm.stats.summary(idata.predictions, kind='stats')"
   ],
   "id": "dbc74ec54e96ca67",
   "outputs": [],
   "execution_count": null
  },
  {
   "metadata": {},
   "cell_type": "code",
   "source": [
    "# Simulate new data, under a scenario where the first beta is zero.\n",
    "with pm.do(\n",
    "    inference_model,\n",
    "    {inference_model['betas']: inference_model['betas'] * [0, 1, 1]}\n",
    ") as plant_growth_model:\n",
    "    new_predictions = pm.sample_posterior_predictive(\n",
    "        idata,\n",
    "        predictions=True,\n",
    "        random_seed=seed,\n",
    "    )\n",
    "\n",
    "pm.stats.summary(new_predictions, kind='stats')"
   ],
   "id": "9784c07dd9eba9de",
   "outputs": [],
   "execution_count": null
  },
  {
   "metadata": {},
   "cell_type": "code",
   "source": "",
   "id": "341990958c85e454",
   "outputs": [],
   "execution_count": null
  }
 ],
 "metadata": {
  "kernelspec": {
   "display_name": "Python 3 (ipykernel)",
   "language": "python",
   "name": "python3"
  },
  "language_info": {
   "codemirror_mode": {
    "name": "ipython",
    "version": 3
   },
   "file_extension": ".py",
   "mimetype": "text/x-python",
   "name": "python",
   "nbconvert_exporter": "python",
   "pygments_lexer": "ipython3",
   "version": "3.12.8"
  }
 },
 "nbformat": 4,
 "nbformat_minor": 5
}
